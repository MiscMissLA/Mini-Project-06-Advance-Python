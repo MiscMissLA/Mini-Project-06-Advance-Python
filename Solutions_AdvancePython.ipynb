{
  "nbformat": 4,
  "nbformat_minor": 0,
  "metadata": {
    "colab": {
      "provenance": [],
      "authorship_tag": "ABX9TyP+I676IaLlISrlY9iwxzaB",
      "include_colab_link": true
    },
    "kernelspec": {
      "name": "python3",
      "display_name": "Python 3"
    },
    "language_info": {
      "name": "python"
    }
  },
  "cells": [
    {
      "cell_type": "markdown",
      "metadata": {
        "id": "view-in-github",
        "colab_type": "text"
      },
      "source": [
        "<a href=\"https://colab.research.google.com/github/MiscMissLA/Mini-Project-06-Advance-Python/blob/main/Solutions_AdvancePython.ipynb\" target=\"_parent\"><img src=\"https://colab.research.google.com/assets/colab-badge.svg\" alt=\"Open In Colab\"/></a>"
      ]
    },
    {
      "cell_type": "code",
      "execution_count": null,
      "metadata": {
        "colab": {
          "base_uri": "https://localhost:8080/"
        },
        "id": "3ZocZw_HNBUd",
        "outputId": "9f3bf5cf-1348-4e40-f797-c9807a315071"
      },
      "outputs": [
        {
          "output_type": "stream",
          "name": "stdout",
          "text": [
            "file1.txt written successfully.\n"
          ]
        }
      ],
      "source": [
        "# ques 1.1\n",
        "\n",
        "import string as s\n",
        "import random as r\n",
        "f = open('file1.txt', 'w')\n",
        "for i in range(1000):\n",
        "  sample_s = r.sample(s.ascii_letters, r.randint(10,15))\n",
        "  sample_s = \"\".join(sample_s)\n",
        "  f.write(sample_s + \"\\n\")\n",
        "\n",
        "f.close()\n",
        "print('file1.txt written successfully.')\n"
      ]
    },
    {
      "cell_type": "code",
      "source": [
        "# ques 1.2\n",
        "\n",
        "import string as s\n",
        "import random as r\n",
        "\n",
        "max_filesize = 5 * 1024 * 1024\n",
        "\n",
        "with open('file1.txt', 'w') as file:\n",
        "  while True:\n",
        "    sample_s = r.sample(s.ascii_letters, r.randint(10,15))\n",
        "    sample_s = \"\".join(sample_s)\n",
        "    if file.tell()+len(sample_s.encode('utf-8')) >= max_filesize:\n",
        "      break\n",
        "    file.write(sample_s + \"\\n\")\n",
        "\n",
        "print('file1.txt written successfully.')"
      ],
      "metadata": {
        "colab": {
          "base_uri": "https://localhost:8080/"
        },
        "id": "tw7aK4hrP4s-",
        "outputId": "27f962b9-a34a-461e-e261-2e72c78543dc"
      },
      "execution_count": null,
      "outputs": [
        {
          "output_type": "stream",
          "name": "stdout",
          "text": [
            "file1.txt written successfully.\n"
          ]
        }
      ]
    },
    {
      "cell_type": "code",
      "source": [
        "# ques 1.2\n",
        "\n",
        "import os as o\n",
        "import string as s\n",
        "import random as r\n",
        "\n",
        "# o.rmdir('output')\n",
        "# o.mkdir('output')\n",
        "\n",
        "max_filesize = 5 * 1024 * 1024\n",
        "for i in range(1,11):\n",
        "  with open('/content/output/file_'+str(i)+'.txt', 'w') as file:\n",
        "    while True:\n",
        "      sample_s = r.sample(s.ascii_letters, r.randint(10,15))\n",
        "      sample_s = \"\".join(sample_s)\n",
        "      if file.tell()+len(sample_s.encode('utf-8')) >= max_filesize:\n",
        "        break\n",
        "      file.write(sample_s + \"\\n\")\n",
        "\n",
        "L = o.listdir('output')\n",
        "for i in sorted(L):\n",
        "  print(i, 'written successfully.')"
      ],
      "metadata": {
        "colab": {
          "base_uri": "https://localhost:8080/"
        },
        "id": "I4CjvfEtTA5_",
        "outputId": "333a7433-c23b-405c-95c0-37f193b45419"
      },
      "execution_count": null,
      "outputs": [
        {
          "output_type": "stream",
          "name": "stdout",
          "text": [
            "file_1.txt written successfully.\n",
            "file_10.txt written successfully.\n",
            "file_2.txt written successfully.\n",
            "file_3.txt written successfully.\n",
            "file_4.txt written successfully.\n",
            "file_5.txt written successfully.\n",
            "file_6.txt written successfully.\n",
            "file_7.txt written successfully.\n",
            "file_8.txt written successfully.\n",
            "file_9.txt written successfully.\n"
          ]
        }
      ]
    },
    {
      "cell_type": "code",
      "source": [
        "# ques 1.3\n",
        "\n",
        "import os as o\n",
        "import string as s\n",
        "import random as r\n",
        "\n",
        "# o.rmdir('output')\n",
        "o.mkdir('output')\n",
        "\n",
        "max_filesize = 1* 1024 * 1024 * 1024 #1GB\n",
        "for i in range(1,6):\n",
        "  with open('/content/output/file_'+str(i)+'.txt', 'w') as file:\n",
        "    while True:\n",
        "      sample_s = r.sample(s.ascii_letters, r.randint(10,15))\n",
        "      sample_s = \"\".join(sample_s)\n",
        "      if file.tell()+len(sample_s.encode('utf-8')) >= i*max_filesize:\n",
        "        break\n",
        "      file.write(sample_s + \"\\n\")\n",
        "\n",
        "L = o.listdir('output')\n",
        "for i in sorted(L):\n",
        "  print(i, 'written successfully.')"
      ],
      "metadata": {
        "id": "3csBFlIUUm3D"
      },
      "execution_count": null,
      "outputs": []
    },
    {
      "cell_type": "code",
      "source": [
        "# ques 1.4\n",
        "\n",
        "import os as o\n",
        "\n",
        "if not o.path.exists('input'):\n",
        "    o.mkdir('input')\n",
        "\n",
        "L = o.listdir('output')\n",
        "\n",
        "for i in sorted(L):\n",
        "  with open(f'/content/output/{i}', 'r') as file:\n",
        "    f = open(f'/content/input/upper_file{i}', 'w')\n",
        "    for line in file:\n",
        "      f.write(line.upper())\n",
        "    f.close()\n",
        "    print(f'upper_file{i} written successfully.')\n",
        "\n",
        "print('program completed. ')\n",
        "\n",
        "\n"
      ],
      "metadata": {
        "id": "OOKuzT6hVxR5"
      },
      "execution_count": null,
      "outputs": []
    },
    {
      "cell_type": "code",
      "source": [
        "# ques 2.12\n",
        "\n",
        "import numpy as np\n",
        "import pandas as pd\n",
        "\n",
        "df = pd.DataFrame(np.random.randint(0,200, (100,30)))\n",
        "print('dataset contains: \\n', df)\n",
        "print('Rows in each column: \\n', df.count())\n",
        "print('- - - - - - - - ')\n",
        "\n",
        "# 2. i\n",
        "df = df[(df >= 10) & (df <= 60)]\n",
        "print('Missing values in each column:\\n', df.isnull().sum())\n",
        "print('- - - - - - - - ')\n",
        "\n",
        "# 2. ii\n",
        "df = df.fillna(df.mean(axis = 1))\n",
        "print('Missing values in each column:\\n', df.isnull().sum())\n",
        "print('- - - - - - - - ')\n",
        "\n",
        "# 2. iii\n",
        "\n",
        "\n"
      ],
      "metadata": {
        "id": "PFpVyu8fX8Ez",
        "colab": {
          "base_uri": "https://localhost:8080/"
        },
        "outputId": "1f050b0f-9630-4ee7-847c-8e0b060f44cf"
      },
      "execution_count": null,
      "outputs": [
        {
          "output_type": "stream",
          "name": "stdout",
          "text": [
            "dataset contains: \n",
            "      0    1    2    3    4    5    6    7    8    9   ...   20   21   22   23  \\\n",
            "0    77  150    0   58   23  196  142   78  194  124  ...   56   54  128  150   \n",
            "1    24  199  108   84   77   43   67  197   71  195  ...   93  156  145  131   \n",
            "2    23   65   77  109  119   96  137  176   51  171  ...  167   92  138    8   \n",
            "3     9   47   35   76  147   33  181   39  165  171  ...  180  190   12   78   \n",
            "4   156  161   50  154  149  140  126   49  141   42  ...  129   99   21   12   \n",
            "..  ...  ...  ...  ...  ...  ...  ...  ...  ...  ...  ...  ...  ...  ...  ...   \n",
            "95   38   97   42  164   31   46   84   55   66   36  ...  125  150  156  139   \n",
            "96   96   62  122  187  162  176   25   22  172   39  ...   52   15  121  129   \n",
            "97  154   43  159  101  173    9   36  136   29   63  ...   41   92  147  155   \n",
            "98  160   28  110    8   61   65  142  103  100   25  ...  182  157    9   85   \n",
            "99  166  173  197  118  128  154  155  114   45  101  ...  149   45   40   71   \n",
            "\n",
            "     24   25   26   27   28   29  \n",
            "0   187    5   82  154  195   61  \n",
            "1    49   55  165   38  162   86  \n",
            "2   162   94  183  161   61  174  \n",
            "3   182   37   19  195  157    1  \n",
            "4   165  133  133  107  164   48  \n",
            "..  ...  ...  ...  ...  ...  ...  \n",
            "95   36   54   83  145  101   41  \n",
            "96   32  138  155   45  123  111  \n",
            "97  131   93  169  109   69   72  \n",
            "98   70  132   63  116   53  160  \n",
            "99   36   94    2  176  172   98  \n",
            "\n",
            "[100 rows x 30 columns]\n",
            "Rows in each column: \n",
            " 0     100\n",
            "1     100\n",
            "2     100\n",
            "3     100\n",
            "4     100\n",
            "5     100\n",
            "6     100\n",
            "7     100\n",
            "8     100\n",
            "9     100\n",
            "10    100\n",
            "11    100\n",
            "12    100\n",
            "13    100\n",
            "14    100\n",
            "15    100\n",
            "16    100\n",
            "17    100\n",
            "18    100\n",
            "19    100\n",
            "20    100\n",
            "21    100\n",
            "22    100\n",
            "23    100\n",
            "24    100\n",
            "25    100\n",
            "26    100\n",
            "27    100\n",
            "28    100\n",
            "29    100\n",
            "dtype: int64\n",
            "- - - - - - - - \n",
            "Missing values in each column:\n",
            " 0     65\n",
            "1     72\n",
            "2     75\n",
            "3     76\n",
            "4     75\n",
            "5     80\n",
            "6     73\n",
            "7     79\n",
            "8     77\n",
            "9     66\n",
            "10    80\n",
            "11    75\n",
            "12    68\n",
            "13    68\n",
            "14    72\n",
            "15    74\n",
            "16    73\n",
            "17    76\n",
            "18    74\n",
            "19    78\n",
            "20    80\n",
            "21    70\n",
            "22    79\n",
            "23    76\n",
            "24    77\n",
            "25    74\n",
            "26    78\n",
            "27    72\n",
            "28    75\n",
            "29    82\n",
            "dtype: int64\n",
            "- - - - - - - - \n",
            "Missing values in each column:\n",
            " 0     0\n",
            "1     0\n",
            "2     0\n",
            "3     0\n",
            "4     0\n",
            "5     0\n",
            "6     0\n",
            "7     0\n",
            "8     0\n",
            "9     0\n",
            "10    0\n",
            "11    0\n",
            "12    0\n",
            "13    0\n",
            "14    0\n",
            "15    0\n",
            "16    0\n",
            "17    0\n",
            "18    0\n",
            "19    0\n",
            "20    0\n",
            "21    0\n",
            "22    0\n",
            "23    0\n",
            "24    0\n",
            "25    0\n",
            "26    0\n",
            "27    0\n",
            "28    0\n",
            "29    0\n",
            "dtype: int64\n",
            "- - - - - - - - \n"
          ]
        }
      ]
    },
    {
      "cell_type": "code",
      "source": [
        "# ques 2.13\n",
        "a = np.random.randint(-10, 10, (500, 4))\n",
        "b = np.random.randint(10, 20, (500, 4))\n",
        "c = np.random.randint(-100, 100, (500, 2))\n",
        "\n",
        "df = pd.concat([a,b,c], axis = 1)\n",
        "df.reset_index(drop = True, inplace = True)\n",
        "\n",
        "\n",
        "df = pd.DataFrame()"
      ],
      "metadata": {
        "colab": {
          "base_uri": "https://localhost:8080/",
          "height": 180
        },
        "id": "NCI4tg37YxBO",
        "outputId": "ab96d79d-4508-4da1-da9c-a7c6465dfef0"
      },
      "execution_count": null,
      "outputs": [
        {
          "output_type": "error",
          "ename": "TypeError",
          "evalue": "list expected at most 1 argument, got 3",
          "traceback": [
            "\u001b[0;31m---------------------------------------------------------------------------\u001b[0m",
            "\u001b[0;31mTypeError\u001b[0m                                 Traceback (most recent call last)",
            "\u001b[0;32m<ipython-input-5-3319257494>\u001b[0m in \u001b[0;36m<cell line: 0>\u001b[0;34m()\u001b[0m\n\u001b[1;32m      1\u001b[0m \u001b[0;31m# ques 2.13\u001b[0m\u001b[0;34m\u001b[0m\u001b[0;34m\u001b[0m\u001b[0m\n\u001b[1;32m      2\u001b[0m \u001b[0;34m\u001b[0m\u001b[0m\n\u001b[0;32m----> 3\u001b[0;31m \u001b[0mdf\u001b[0m \u001b[0;34m=\u001b[0m \u001b[0mpd\u001b[0m\u001b[0;34m.\u001b[0m\u001b[0mDataFrame\u001b[0m\u001b[0;34m(\u001b[0m\u001b[0mlist\u001b[0m\u001b[0;34m(\u001b[0m\u001b[0mnp\u001b[0m\u001b[0;34m.\u001b[0m\u001b[0mrandom\u001b[0m\u001b[0;34m.\u001b[0m\u001b[0mrandint\u001b[0m\u001b[0;34m(\u001b[0m\u001b[0;34m-\u001b[0m\u001b[0;36m10\u001b[0m\u001b[0;34m,\u001b[0m \u001b[0;36m10\u001b[0m\u001b[0;34m,\u001b[0m \u001b[0;34m(\u001b[0m\u001b[0;36m500\u001b[0m\u001b[0;34m,\u001b[0m \u001b[0;36m4\u001b[0m\u001b[0;34m)\u001b[0m\u001b[0;34m)\u001b[0m\u001b[0;34m,\u001b[0m \u001b[0mnp\u001b[0m\u001b[0;34m.\u001b[0m\u001b[0mrandom\u001b[0m\u001b[0;34m.\u001b[0m\u001b[0mrandint\u001b[0m\u001b[0;34m(\u001b[0m\u001b[0;36m10\u001b[0m\u001b[0;34m,\u001b[0m \u001b[0;36m20\u001b[0m\u001b[0;34m,\u001b[0m \u001b[0;34m(\u001b[0m\u001b[0;36m500\u001b[0m\u001b[0;34m,\u001b[0m \u001b[0;36m4\u001b[0m\u001b[0;34m)\u001b[0m\u001b[0;34m)\u001b[0m\u001b[0;34m,\u001b[0m \u001b[0mnp\u001b[0m\u001b[0;34m.\u001b[0m\u001b[0mrandom\u001b[0m\u001b[0;34m.\u001b[0m\u001b[0mrandint\u001b[0m\u001b[0;34m(\u001b[0m\u001b[0;34m-\u001b[0m\u001b[0;36m100\u001b[0m\u001b[0;34m,\u001b[0m \u001b[0;36m100\u001b[0m\u001b[0;34m,\u001b[0m \u001b[0;34m(\u001b[0m\u001b[0;36m500\u001b[0m\u001b[0;34m,\u001b[0m \u001b[0;36m2\u001b[0m\u001b[0;34m)\u001b[0m\u001b[0;34m)\u001b[0m\u001b[0;34m)\u001b[0m\u001b[0;34m)\u001b[0m\u001b[0;34m\u001b[0m\u001b[0;34m\u001b[0m\u001b[0m\n\u001b[0m",
            "\u001b[0;31mTypeError\u001b[0m: list expected at most 1 argument, got 3"
          ]
        }
      ]
    }
  ]
}